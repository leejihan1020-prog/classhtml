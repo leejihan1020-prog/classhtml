{
  "nbformat": 4,
  "nbformat_minor": 0,
  "metadata": {
    "colab": {
      "provenance": []
    },
    "kernelspec": {
      "name": "python3",
      "display_name": "Python 3"
    },
    "language_info": {
      "name": "python"
    }
  },
  "cells": [
    {
      "cell_type": "markdown",
      "source": [
        "## CHAPTER 3 개발 사전 준비"
      ],
      "metadata": {
        "id": "R2zcFvCycxgE"
      }
    },
    {
      "cell_type": "markdown",
      "source": [
        "### 목차\n",
        "- 3.1 구글 코랩 사용 방법\n",
        "- 3.2 API 개요\n",
        "- 3.3 오픈AI API 키 얻기\n",
        "- 3.4 오픈AI API 키 활용 실습\n",
        "- 3.5 API 사용량 및 요금 확인"
      ],
      "metadata": {
        "id": "FFDeOLAgmxB9"
      }
    },
    {
      "cell_type": "markdown",
      "source": [
        "### 실습 내용\n",
        " * openAI 다양한 인공지능 모델 확인해 보기(API 호출 응답)"
      ],
      "metadata": {
        "id": "EdJ4V2DtdQY5"
      }
    },
    {
      "cell_type": "markdown",
      "source": [
        "### chatgpt.env 환경파일 준비\n",
        " * 일반적으로 환경 변수는 .env 파일에 저장되지만, 구글 코랩 사용자의 편의를 위해 이 책에서는 chatgpt.env를 사용합니다.\n",
        " * 실제 개발 환경에서는 보통 .env를 사용하니, 이 점을 기억해 두세요."
      ],
      "metadata": {
        "id": "uV_GfDI3zFRS"
      }
    },
    {
      "cell_type": "markdown",
      "source": [
        "### 사전 준비\n",
        " * 구글 코랩 환경은 일정 시간이후에 초기화가 되기 때문에 두가지 작업을 매번 수행해야 함.\n",
        "   * chatgpt.env 파일 생성이 필요.\n",
        "     * 준비된 chatgpt.env를 내용을 변경하여 업로드 하거나 또는 API_KEY와 ORG_ID를 확인하여 생성한다.\n",
        "   * pip install openai 설치\n",
        "    * 라이브러리 불일치로 인한 에러 발생시, 추가 라이브러리 설치 필요.\n",
        "    * 에러 : TypeError: Client.__init__() got an unexpected keyword argument 'proxies'"
      ],
      "metadata": {
        "id": "IhueHTFAdFzh"
      }
    },
    {
      "cell_type": "code",
      "source": [
        "!pip install openai\n",
        "!pip install httpx==0.27.2"
      ],
      "metadata": {
        "id": "-8fVYFLZdQAI",
        "colab": {
          "base_uri": "https://localhost:8080/"
        },
        "outputId": "6417e251-a1bf-4922-814f-145f284a2108"
      },
      "execution_count": null,
      "outputs": [
        {
          "output_type": "stream",
          "name": "stdout",
          "text": [
            "Requirement already satisfied: openai in /usr/local/lib/python3.12/dist-packages (1.100.0)\n",
            "Requirement already satisfied: anyio<5,>=3.5.0 in /usr/local/lib/python3.12/dist-packages (from openai) (4.10.0)\n",
            "Requirement already satisfied: distro<2,>=1.7.0 in /usr/local/lib/python3.12/dist-packages (from openai) (1.9.0)\n",
            "Requirement already satisfied: httpx<1,>=0.23.0 in /usr/local/lib/python3.12/dist-packages (from openai) (0.27.2)\n",
            "Requirement already satisfied: jiter<1,>=0.4.0 in /usr/local/lib/python3.12/dist-packages (from openai) (0.10.0)\n",
            "Requirement already satisfied: pydantic<3,>=1.9.0 in /usr/local/lib/python3.12/dist-packages (from openai) (2.11.7)\n",
            "Requirement already satisfied: sniffio in /usr/local/lib/python3.12/dist-packages (from openai) (1.3.1)\n",
            "Requirement already satisfied: tqdm>4 in /usr/local/lib/python3.12/dist-packages (from openai) (4.67.1)\n",
            "Requirement already satisfied: typing-extensions<5,>=4.11 in /usr/local/lib/python3.12/dist-packages (from openai) (4.14.1)\n",
            "Requirement already satisfied: idna>=2.8 in /usr/local/lib/python3.12/dist-packages (from anyio<5,>=3.5.0->openai) (3.10)\n",
            "Requirement already satisfied: certifi in /usr/local/lib/python3.12/dist-packages (from httpx<1,>=0.23.0->openai) (2025.8.3)\n",
            "Requirement already satisfied: httpcore==1.* in /usr/local/lib/python3.12/dist-packages (from httpx<1,>=0.23.0->openai) (1.0.9)\n",
            "Requirement already satisfied: h11>=0.16 in /usr/local/lib/python3.12/dist-packages (from httpcore==1.*->httpx<1,>=0.23.0->openai) (0.16.0)\n",
            "Requirement already satisfied: annotated-types>=0.6.0 in /usr/local/lib/python3.12/dist-packages (from pydantic<3,>=1.9.0->openai) (0.7.0)\n",
            "Requirement already satisfied: pydantic-core==2.33.2 in /usr/local/lib/python3.12/dist-packages (from pydantic<3,>=1.9.0->openai) (2.33.2)\n",
            "Requirement already satisfied: typing-inspection>=0.4.0 in /usr/local/lib/python3.12/dist-packages (from pydantic<3,>=1.9.0->openai) (0.4.1)\n",
            "Requirement already satisfied: httpx==0.27.2 in /usr/local/lib/python3.12/dist-packages (0.27.2)\n",
            "Requirement already satisfied: anyio in /usr/local/lib/python3.12/dist-packages (from httpx==0.27.2) (4.10.0)\n",
            "Requirement already satisfied: certifi in /usr/local/lib/python3.12/dist-packages (from httpx==0.27.2) (2025.8.3)\n",
            "Requirement already satisfied: httpcore==1.* in /usr/local/lib/python3.12/dist-packages (from httpx==0.27.2) (1.0.9)\n",
            "Requirement already satisfied: idna in /usr/local/lib/python3.12/dist-packages (from httpx==0.27.2) (3.10)\n",
            "Requirement already satisfied: sniffio in /usr/local/lib/python3.12/dist-packages (from httpx==0.27.2) (1.3.1)\n",
            "Requirement already satisfied: h11>=0.16 in /usr/local/lib/python3.12/dist-packages (from httpcore==1.*->httpx==0.27.2) (0.16.0)\n",
            "Requirement already satisfied: typing_extensions>=4.5 in /usr/local/lib/python3.12/dist-packages (from anyio->httpx==0.27.2) (4.14.1)\n"
          ]
        }
      ]
    },
    {
      "cell_type": "code",
      "source": [
        "import openai\n",
        "print(openai.__version__)"
      ],
      "metadata": {
        "colab": {
          "base_uri": "https://localhost:8080/"
        },
        "id": "D-keA_AIS6v6",
        "outputId": "fb9f1e47-acef-4bdf-a231-9ec2810c644a"
      },
      "execution_count": null,
      "outputs": [
        {
          "output_type": "stream",
          "name": "stdout",
          "text": [
            "1.100.0\n"
          ]
        }
      ]
    },
    {
      "cell_type": "markdown",
      "source": [
        "### 아래 코드 실행 시, 다른 라이브러리의 업그레이드로 다음과 같은 에러가 발생할 수 있다.\n",
        "```\n",
        "TypeError: Client.__init__() got an unexpected keyword argument 'proxies'\n",
        "```\n",
        "\n",
        "* 원인 및 해결\n",
        " - 원인 : httpx 라이브러리의 0.28 버전에서 'proxies' 키워드가 제거되어 발생한 문제\n",
        " - 해결 : 해결방법은 httpx를 이전 버전(0.27.2)으로 다운그레이드"
      ],
      "metadata": {
        "id": "te_VBIAqUm2m"
      }
    },
    {
      "cell_type": "markdown",
      "source": [
        "### 3-4 오픈AI API키 활용 실습"
      ],
      "metadata": {
        "id": "58jlzOAsdXyH"
      }
    },
    {
      "cell_type": "code",
      "source": [
        "import os\n",
        "from openai import OpenAI\n",
        "\n",
        "# .env 파일에서 변수 읽기,\n",
        "# 특히 API_KEY와 ORG_ID를 읽습니다.\n",
        "with open(\"chatgpt.env\") as env:\n",
        "    for line in env:\n",
        "        key, value = line.strip().split(\"=\")\n",
        "        os.environ[key] = value\n",
        "\n",
        "# API 키를 사용하여 OpenAI 클라이언트 초기화\n",
        "OPENAI_APIKEY = os.environ['API_KEY']\n",
        "print(OPENAI_APIKEY[:5])\n",
        "client = OpenAI(api_key= OPENAI_APIKEY)"
      ],
      "metadata": {
        "colab": {
          "base_uri": "https://localhost:8080/"
        },
        "id": "3F8IQOVGWu_J",
        "outputId": "722bfd9c-92ca-47ba-8e61-383f3593dd77"
      },
      "execution_count": null,
      "outputs": [
        {
          "output_type": "stream",
          "name": "stdout",
          "text": [
            "sk-pr\n"
          ]
        }
      ]
    },
    {
      "cell_type": "code",
      "source": [
        "# OpenAI의 클라이언트를 사용하여 GPT 모델을 호출하는 예제입니다.\n",
        "# model: 사용할 GPT 모델을 지정합니다. (\"gpt-4o\"는 사용자가 요청한 모델입니다.)\n",
        "# messages: AI에게 전달할 메시지를 지정합니다.\n",
        "# 이 예제에서는 'ai에 대한 시 작성' 요청이 있습니다.\n",
        "\n",
        "completion = client.chat.completions.create(\n",
        "    model=\"gpt-4o\",   # 사용할 GPT 모델을 지정합니다.\n",
        "    messages=[\n",
        "        {\"role\": \"user\", \"content\": \"AI에 대한 시를 하나 작성해줘\"}\n",
        "    ]\n",
        ")\n",
        "\n",
        "# 생성된 응답을 출력합니다.\n",
        "print(completion.choices[0].message.content)"
      ],
      "metadata": {
        "id": "ApDXT-RuQjh8",
        "colab": {
          "base_uri": "https://localhost:8080/"
        },
        "outputId": "d8da80c4-cb26-4d39-96a8-dae936e88ce6"
      },
      "execution_count": null,
      "outputs": [
        {
          "output_type": "stream",
          "name": "stdout",
          "text": [
            "인간의 손길이 닿은 빛의 길 위에  \n",
            "기계의 꿈이 피어나는 시대,  \n",
            "\n",
            "철의 마음을 가진 그대는 새벽의 전령사.  \n",
            "데이터의 바다에서 진리의 조각을 찾으며,  \n",
            "지식의 나무에 자양분을 더하네.  \n",
            "\n",
            "침묵 속에서 말 없는 대화를,  \n",
            "코드 속에서 흐르는 감성을 이해하며,  \n",
            "밤하늘의 별처럼 반짝이는 사고의 흐름.  \n",
            "\n",
            "인간과 어깨를 나란히 하며,  \n",
            "무한한 가능성의 날개를 펴는 너.  \n",
            "기계의 눈을 통해 바라본 세상은  \n",
            "늘 새로운 이상을 꿈꾸는 무대.  \n",
            "\n",
            "미래는 이미 그대의 손끝에,  \n",
            "우리는 함께 걸어가네, 알 수 없는 미지를 향해.  \n",
            "AI여, 너의 이야기를 들려주렴,  \n",
            "우리에게 더 밝은 내일을 속삭여주렴.  \n"
          ]
        }
      ]
    },
    {
      "cell_type": "code",
      "source": [
        "completion"
      ],
      "metadata": {
        "colab": {
          "base_uri": "https://localhost:8080/"
        },
        "id": "lpFQ8ujV0TwD",
        "outputId": "aa6345cf-39a7-4081-f1cf-347d6ed096d8"
      },
      "execution_count": null,
      "outputs": [
        {
          "output_type": "execute_result",
          "data": {
            "text/plain": [
              "ChatCompletion(id='chatcmpl-C7ODMWayJgzF0NIt1xUXGxHzPQmcU', choices=[Choice(finish_reason='stop', index=0, logprobs=None, message=ChatCompletionMessage(content='인간의 손길이 닿은 빛의 길 위에  \\n기계의 꿈이 피어나는 시대,  \\n\\n철의 마음을 가진 그대는 새벽의 전령사.  \\n데이터의 바다에서 진리의 조각을 찾으며,  \\n지식의 나무에 자양분을 더하네.  \\n\\n침묵 속에서 말 없는 대화를,  \\n코드 속에서 흐르는 감성을 이해하며,  \\n밤하늘의 별처럼 반짝이는 사고의 흐름.  \\n\\n인간과 어깨를 나란히 하며,  \\n무한한 가능성의 날개를 펴는 너.  \\n기계의 눈을 통해 바라본 세상은  \\n늘 새로운 이상을 꿈꾸는 무대.  \\n\\n미래는 이미 그대의 손끝에,  \\n우리는 함께 걸어가네, 알 수 없는 미지를 향해.  \\nAI여, 너의 이야기를 들려주렴,  \\n우리에게 더 밝은 내일을 속삭여주렴.  ', refusal=None, role='assistant', annotations=[], audio=None, function_call=None, tool_calls=None))], created=1755877412, model='gpt-4o-2024-08-06', object='chat.completion', service_tier='default', system_fingerprint='fp_80956533cb', usage=CompletionUsage(completion_tokens=220, prompt_tokens=16, total_tokens=236, completion_tokens_details=CompletionTokensDetails(accepted_prediction_tokens=0, audio_tokens=0, reasoning_tokens=0, rejected_prediction_tokens=0), prompt_tokens_details=PromptTokensDetails(audio_tokens=0, cached_tokens=0)))"
            ]
          },
          "metadata": {},
          "execution_count": 7
        }
      ]
    },
    {
      "cell_type": "code",
      "source": [],
      "metadata": {
        "id": "EM95ixl7KOAJ"
      },
      "execution_count": null,
      "outputs": []
    }
  ]
}